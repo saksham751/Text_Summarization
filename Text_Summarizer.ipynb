{
  "nbformat": 4,
  "nbformat_minor": 0,
  "metadata": {
    "colab": {
      "provenance": [],
      "collapsed_sections": [
        "23j-ZtfOU5PM",
        "ZPZhBFOYBLN8",
        "NYOROjlaUAay"
      ],
      "toc_visible": true,
      "include_colab_link": true
    },
    "kernelspec": {
      "name": "python3",
      "display_name": "Python 3"
    },
    "language_info": {
      "name": "python"
    }
  },
  "cells": [
    {
      "cell_type": "markdown",
      "metadata": {
        "id": "view-in-github",
        "colab_type": "text"
      },
      "source": [
        "<a href=\"https://colab.research.google.com/github/saksham751/Text_Summarization/blob/main/Text_Summarizer.ipynb\" target=\"_parent\"><img src=\"https://colab.research.google.com/assets/colab-badge.svg\" alt=\"Open In Colab\"/></a>"
      ]
    },
    {
      "cell_type": "markdown",
      "source": [
        "# Statistical Method"
      ],
      "metadata": {
        "id": "23j-ZtfOU5PM"
      }
    },
    {
      "cell_type": "code",
      "source": [
        "import nltk\n",
        "nltk.download('stopwords')\n",
        "import spacy\n",
        "from spacy.lang.en.stop_words import STOP_WORDS\n",
        "from string import punctuation\n",
        "from heapq import nlargest\n",
        "from nltk.corpus import stopwords\n",
        "from nltk.cluster.util import cosine_distance\n",
        "import numpy as np\n",
        "import networkx as nx"
      ],
      "metadata": {
        "colab": {
          "base_uri": "https://localhost:8080/"
        },
        "id": "HnIPLQ2ykjYS",
        "outputId": "5905ee5b-b062-4fe5-ca3d-69ff1e02e292"
      },
      "execution_count": null,
      "outputs": [
        {
          "output_type": "stream",
          "name": "stderr",
          "text": [
            "[nltk_data] Downloading package stopwords to /root/nltk_data...\n",
            "[nltk_data]   Package stopwords is already up-to-date!\n"
          ]
        }
      ]
    },
    {
      "cell_type": "code",
      "source": [
        "pip install newspaper3k"
      ],
      "metadata": {
        "colab": {
          "base_uri": "https://localhost:8080/"
        },
        "id": "g9aQDlrTnLHB",
        "outputId": "b0e240eb-7cfa-448b-ebef-0afadce908b9"
      },
      "execution_count": null,
      "outputs": [
        {
          "output_type": "stream",
          "name": "stdout",
          "text": [
            "Looking in indexes: https://pypi.org/simple, https://us-python.pkg.dev/colab-wheels/public/simple/\n",
            "Requirement already satisfied: newspaper3k in /usr/local/lib/python3.7/dist-packages (0.2.8)\n",
            "Requirement already satisfied: nltk>=3.2.1 in /usr/local/lib/python3.7/dist-packages (from newspaper3k) (3.7)\n",
            "Requirement already satisfied: lxml>=3.6.0 in /usr/local/lib/python3.7/dist-packages (from newspaper3k) (4.9.1)\n",
            "Requirement already satisfied: jieba3k>=0.35.1 in /usr/local/lib/python3.7/dist-packages (from newspaper3k) (0.35.1)\n",
            "Requirement already satisfied: requests>=2.10.0 in /usr/local/lib/python3.7/dist-packages (from newspaper3k) (2.23.0)\n",
            "Requirement already satisfied: cssselect>=0.9.2 in /usr/local/lib/python3.7/dist-packages (from newspaper3k) (1.2.0)\n",
            "Requirement already satisfied: tinysegmenter==0.3 in /usr/local/lib/python3.7/dist-packages (from newspaper3k) (0.3)\n",
            "Requirement already satisfied: python-dateutil>=2.5.3 in /usr/local/lib/python3.7/dist-packages (from newspaper3k) (2.8.2)\n",
            "Requirement already satisfied: Pillow>=3.3.0 in /usr/local/lib/python3.7/dist-packages (from newspaper3k) (7.1.2)\n",
            "Requirement already satisfied: beautifulsoup4>=4.4.1 in /usr/local/lib/python3.7/dist-packages (from newspaper3k) (4.6.3)\n",
            "Requirement already satisfied: feedparser>=5.2.1 in /usr/local/lib/python3.7/dist-packages (from newspaper3k) (6.0.10)\n",
            "Requirement already satisfied: feedfinder2>=0.0.4 in /usr/local/lib/python3.7/dist-packages (from newspaper3k) (0.0.4)\n",
            "Requirement already satisfied: tldextract>=2.0.1 in /usr/local/lib/python3.7/dist-packages (from newspaper3k) (3.4.0)\n",
            "Requirement already satisfied: PyYAML>=3.11 in /usr/local/lib/python3.7/dist-packages (from newspaper3k) (6.0)\n",
            "Requirement already satisfied: six in /usr/local/lib/python3.7/dist-packages (from feedfinder2>=0.0.4->newspaper3k) (1.15.0)\n",
            "Requirement already satisfied: sgmllib3k in /usr/local/lib/python3.7/dist-packages (from feedparser>=5.2.1->newspaper3k) (1.0.0)\n",
            "Requirement already satisfied: joblib in /usr/local/lib/python3.7/dist-packages (from nltk>=3.2.1->newspaper3k) (1.2.0)\n",
            "Requirement already satisfied: regex>=2021.8.3 in /usr/local/lib/python3.7/dist-packages (from nltk>=3.2.1->newspaper3k) (2022.6.2)\n",
            "Requirement already satisfied: tqdm in /usr/local/lib/python3.7/dist-packages (from nltk>=3.2.1->newspaper3k) (4.64.1)\n",
            "Requirement already satisfied: click in /usr/local/lib/python3.7/dist-packages (from nltk>=3.2.1->newspaper3k) (7.1.2)\n",
            "Requirement already satisfied: chardet<4,>=3.0.2 in /usr/local/lib/python3.7/dist-packages (from requests>=2.10.0->newspaper3k) (3.0.4)\n",
            "Requirement already satisfied: urllib3!=1.25.0,!=1.25.1,<1.26,>=1.21.1 in /usr/local/lib/python3.7/dist-packages (from requests>=2.10.0->newspaper3k) (1.24.3)\n",
            "Requirement already satisfied: certifi>=2017.4.17 in /usr/local/lib/python3.7/dist-packages (from requests>=2.10.0->newspaper3k) (2022.9.24)\n",
            "Requirement already satisfied: idna<3,>=2.5 in /usr/local/lib/python3.7/dist-packages (from requests>=2.10.0->newspaper3k) (2.10)\n",
            "Requirement already satisfied: filelock>=3.0.8 in /usr/local/lib/python3.7/dist-packages (from tldextract>=2.0.1->newspaper3k) (3.8.0)\n",
            "Requirement already satisfied: requests-file>=1.4 in /usr/local/lib/python3.7/dist-packages (from tldextract>=2.0.1->newspaper3k) (1.5.1)\n"
          ]
        }
      ]
    },
    {
      "cell_type": "code",
      "source": [
        "# from newspaper import Article\n",
        "\n",
        "# url = 'https://www.sciencedaily.com/releases/2021/08/210811162816.htm'\n",
        "# article = Article(url)\n",
        "# article.download()\n",
        "# article.parse()\n",
        "# art2=article.text\n",
        "# article.text"
      ],
      "metadata": {
        "id": "UbCNHofthos0"
      },
      "execution_count": null,
      "outputs": []
    },
    {
      "cell_type": "code",
      "source": [
        "data = \"\"\"  Iraqi Vice President Taha Yassin Ramadan announced today, Sunday, that Iraq refuses to back down from its decision to stop cooperating with disarmament\n",
        "  inspectors before its demands are met.Iraqi Vice president Taha Yassin Ramadan announced today,Thursday, that Iraq rejects cooperating with the United Nations except \n",
        "  on the issue of lifting the blockade imposed upon it since the year 1990. Ramadan told reporters in Baghdad that ”Iraq cannot deal positively with whoever represents \n",
        "  the Security Council unless there was a clear stance on the issue of lifting the blockade off of it. Baghdad had decided late last October to completely cease cooperating\n",
        "  with the inspectors of the United Nations Special Commission (UNSCOM), in charge of disarming Iraq’s weapons, and whose work became very limited since the fifth of August, \n",
        "  and announced it will not resume its cooperation with the Commission even if it were subjected to a military operation. The Russian Foreign Minister, Igor Ivanov, warned today, \n",
        "  Wednesday against using force against Iraq, which will destroy, according to him, seven years of difficult diplomatic work and will complicate the regional situation in the area. \n",
        "  Ivanov contended that carrying out air strikes against Iraq, who refuses to cooperate with the United Nations inspectors, will end the tremendous work achieved by the \n",
        "  international group during the past seven years and will complicate the situation in the region. Nevertheless, Ivanov stressed that Baghdad must resume working with the\n",
        "  Special Commission in charge of disarming the Iraqi weapons of mass destruction (UNSCOM). The Special Representative of the United Nations Secretary-General in Baghdad,\n",
        "  Prakash Shah, announced today, Wednesday, after meeting with the Iraqi Deputy Prime Minister Tariq Aziz, that Iraq refuses to back down from its decision to cut off\n",
        "  cooperation with the disarmament inspectors. British Prime Minister Tony Blair said today, Sunday, that the crisis between the international community and Iraq “did not end” \n",
        "  and that Britain is still “ready, prepared, and able to strike Iraq.In a gathering with the press held at the Prime Minister’s office, Blair contended that the crisis with Iraq \n",
        "  “will not end until Iraq has absolutely and unconditionally respected its \"commitments” towards the United Nations.A spokesman for Tony Blair had indicated that the British \n",
        "  Prime Minister gave permission to British Air Force Tornado planes stationed in Kuwait to join the aerial bombardment against Iraq.\n",
        "\"\"\"\n",
        "   "
      ],
      "metadata": {
        "id": "_eSHwxDf6ZKb"
      },
      "execution_count": null,
      "outputs": []
    },
    {
      "cell_type": "code",
      "source": [
        "print(data)"
      ],
      "metadata": {
        "id": "-VP2BzNR7khD"
      },
      "execution_count": null,
      "outputs": []
    },
    {
      "cell_type": "code",
      "source": [
        "def summarize(text, per):\n",
        "    nlp = spacy.load('en_core_web_sm')\n",
        "    doc= nlp(text)\n",
        "    tokens=[token.text for token in doc]\n",
        "    word_frequencies={}\n",
        "    for word in doc:\n",
        "        if word.text.lower() not in list(STOP_WORDS):\n",
        "            if word.text.lower() not in punctuation:\n",
        "                if word.text not in word_frequencies.keys():\n",
        "                    word_frequencies[word.text] = 1\n",
        "                else:\n",
        "                    word_frequencies[word.text] += 1\n",
        "    max_frequency=max(word_frequencies.values())\n",
        "    for word in word_frequencies.keys():\n",
        "        word_frequencies[word]=word_frequencies[word]/max_frequency\n",
        "    sentence_tokens= [sent for sent in doc.sents]\n",
        "    sentence_scores = {}\n",
        "    for sent in sentence_tokens:\n",
        "        for word in sent:\n",
        "            if word.text.lower() in word_frequencies.keys():\n",
        "                if sent not in sentence_scores.keys():                            \n",
        "                    sentence_scores[sent]=word_frequencies[word.text.lower()]\n",
        "                else:\n",
        "                    sentence_scores[sent]+=word_frequencies[word.text.lower()]\n",
        "    select_length=int(len(sentence_tokens)*per)\n",
        "    summary=nlargest(select_length, sentence_scores,key=sentence_scores.get)\n",
        "    final_summary=[word.text for word in summary]\n",
        "    summary=''.join(final_summary)\n",
        "    return summary"
      ],
      "metadata": {
        "id": "Ihnj-37CmwW9"
      },
      "execution_count": null,
      "outputs": []
    },
    {
      "cell_type": "code",
      "source": [
        "summarize(data, 0.1)"
      ],
      "metadata": {
        "colab": {
          "base_uri": "https://localhost:8080/",
          "height": 70
        },
        "id": "Rr91XZMtm_Ba",
        "outputId": "4c435225-9ad8-426f-e42d-50fb3e38860b"
      },
      "execution_count": null,
      "outputs": [
        {
          "output_type": "execute_result",
          "data": {
            "text/plain": [
              "'Baghdad had decided late last October to completely cease cooperating\\n  with the inspectors of the United Nations Special Commission (UNSCOM), in charge of disarming Iraq’s weapons, and whose work became very limited since the fifth of August, \\n  and announced it will not resume its cooperation with the Commission even if it were subjected to a military operation.'"
            ],
            "application/vnd.google.colaboratory.intrinsic+json": {
              "type": "string"
            }
          },
          "metadata": {},
          "execution_count": 51
        }
      ]
    },
    {
      "cell_type": "markdown",
      "source": [
        "# LEXRANK"
      ],
      "metadata": {
        "id": "ZPZhBFOYBLN8"
      }
    },
    {
      "cell_type": "code",
      "source": [
        "pip install lexrank"
      ],
      "metadata": {
        "colab": {
          "base_uri": "https://localhost:8080/"
        },
        "id": "6IzFh8kAfSXz",
        "outputId": "c79e5375-bc90-4df2-fd93-aeb2130ae86c"
      },
      "execution_count": null,
      "outputs": [
        {
          "output_type": "stream",
          "name": "stdout",
          "text": [
            "Looking in indexes: https://pypi.org/simple, https://us-python.pkg.dev/colab-wheels/public/simple/\n",
            "Requirement already satisfied: lexrank in /usr/local/lib/python3.7/dist-packages (0.1.0)\n",
            "Requirement already satisfied: numpy>=1.13.3 in /usr/local/lib/python3.7/dist-packages (from lexrank) (1.21.6)\n",
            "Requirement already satisfied: urlextract>=0.7 in /usr/local/lib/python3.7/dist-packages (from lexrank) (1.7.1)\n",
            "Requirement already satisfied: scipy>=0.19.0 in /usr/local/lib/python3.7/dist-packages (from lexrank) (1.7.3)\n",
            "Requirement already satisfied: regex>=2017.11.9 in /usr/local/lib/python3.7/dist-packages (from lexrank) (2022.6.2)\n",
            "Requirement already satisfied: path.py>=10.5 in /usr/local/lib/python3.7/dist-packages (from lexrank) (12.5.0)\n",
            "Requirement already satisfied: pyrsistent>=0.14.0 in /usr/local/lib/python3.7/dist-packages (from lexrank) (0.18.1)\n",
            "Requirement already satisfied: path in /usr/local/lib/python3.7/dist-packages (from path.py>=10.5->lexrank) (16.5.0)\n",
            "Requirement already satisfied: platformdirs in /usr/local/lib/python3.7/dist-packages (from urlextract>=0.7->lexrank) (2.5.2)\n",
            "Requirement already satisfied: idna in /usr/local/lib/python3.7/dist-packages (from urlextract>=0.7->lexrank) (2.10)\n",
            "Requirement already satisfied: uritools in /usr/local/lib/python3.7/dist-packages (from urlextract>=0.7->lexrank) (4.0.0)\n",
            "Requirement already satisfied: filelock in /usr/local/lib/python3.7/dist-packages (from urlextract>=0.7->lexrank) (3.8.0)\n"
          ]
        }
      ]
    },
    {
      "cell_type": "code",
      "source": [
        "from lexrank import STOPWORDS, LexRank\n",
        "from path import Path"
      ],
      "metadata": {
        "id": "IAOi-ZX_nIBD"
      },
      "execution_count": null,
      "outputs": []
    },
    {
      "cell_type": "code",
      "source": [
        "pip install sumy"
      ],
      "metadata": {
        "colab": {
          "base_uri": "https://localhost:8080/"
        },
        "id": "dzVGWnaMhmtj",
        "outputId": "415e70db-153a-487b-fa18-86962938afd1"
      },
      "execution_count": null,
      "outputs": [
        {
          "output_type": "stream",
          "name": "stdout",
          "text": [
            "Looking in indexes: https://pypi.org/simple, https://us-python.pkg.dev/colab-wheels/public/simple/\n",
            "Requirement already satisfied: sumy in /usr/local/lib/python3.7/dist-packages (0.11.0)\n",
            "Requirement already satisfied: pycountry>=18.2.23 in /usr/local/lib/python3.7/dist-packages (from sumy) (22.3.5)\n",
            "Requirement already satisfied: requests>=2.7.0 in /usr/local/lib/python3.7/dist-packages (from sumy) (2.23.0)\n",
            "Requirement already satisfied: breadability>=0.1.20 in /usr/local/lib/python3.7/dist-packages (from sumy) (0.1.20)\n",
            "Requirement already satisfied: docopt<0.7,>=0.6.1 in /usr/local/lib/python3.7/dist-packages (from sumy) (0.6.2)\n",
            "Requirement already satisfied: nltk>=3.0.2 in /usr/local/lib/python3.7/dist-packages (from sumy) (3.7)\n",
            "Requirement already satisfied: chardet in /usr/local/lib/python3.7/dist-packages (from breadability>=0.1.20->sumy) (3.0.4)\n",
            "Requirement already satisfied: lxml>=2.0 in /usr/local/lib/python3.7/dist-packages (from breadability>=0.1.20->sumy) (4.9.1)\n",
            "Requirement already satisfied: click in /usr/local/lib/python3.7/dist-packages (from nltk>=3.0.2->sumy) (7.1.2)\n",
            "Requirement already satisfied: joblib in /usr/local/lib/python3.7/dist-packages (from nltk>=3.0.2->sumy) (1.2.0)\n",
            "Requirement already satisfied: regex>=2021.8.3 in /usr/local/lib/python3.7/dist-packages (from nltk>=3.0.2->sumy) (2022.6.2)\n",
            "Requirement already satisfied: tqdm in /usr/local/lib/python3.7/dist-packages (from nltk>=3.0.2->sumy) (4.64.1)\n",
            "Requirement already satisfied: setuptools in /usr/local/lib/python3.7/dist-packages (from pycountry>=18.2.23->sumy) (57.4.0)\n",
            "Requirement already satisfied: certifi>=2017.4.17 in /usr/local/lib/python3.7/dist-packages (from requests>=2.7.0->sumy) (2022.9.24)\n",
            "Requirement already satisfied: urllib3!=1.25.0,!=1.25.1,<1.26,>=1.21.1 in /usr/local/lib/python3.7/dist-packages (from requests>=2.7.0->sumy) (1.24.3)\n",
            "Requirement already satisfied: idna<3,>=2.5 in /usr/local/lib/python3.7/dist-packages (from requests>=2.7.0->sumy) (2.10)\n"
          ]
        }
      ]
    },
    {
      "cell_type": "code",
      "source": [
        "nltk.download('punkt')"
      ],
      "metadata": {
        "colab": {
          "base_uri": "https://localhost:8080/"
        },
        "id": "o6kqVhif9zi_",
        "outputId": "71189cee-f9c6-44e6-f566-38e52a1d6b4d"
      },
      "execution_count": null,
      "outputs": [
        {
          "output_type": "stream",
          "name": "stderr",
          "text": [
            "[nltk_data] Downloading package punkt to /root/nltk_data...\n",
            "[nltk_data]   Package punkt is already up-to-date!\n"
          ]
        },
        {
          "output_type": "execute_result",
          "data": {
            "text/plain": [
              "True"
            ]
          },
          "metadata": {},
          "execution_count": 55
        }
      ]
    },
    {
      "cell_type": "code",
      "source": [
        "## Using SUmy package\n",
        "from sumy.parsers.plaintext import PlaintextParser\n",
        "from sumy.nlp.tokenizers import Tokenizer\n",
        "from sumy.summarizers.lex_rank import LexRankSummarizer"
      ],
      "metadata": {
        "id": "CZmnzXW1fZpx"
      },
      "execution_count": null,
      "outputs": []
    },
    {
      "cell_type": "code",
      "source": [
        "from nltk.tokenize import sent_tokenize\n",
        "\n",
        "print(sent_tokenize(data))"
      ],
      "metadata": {
        "colab": {
          "base_uri": "https://localhost:8080/"
        },
        "id": "Tiu8C4Ab8Hx-",
        "outputId": "0db7499e-aeea-40b8-bd0f-bbc26a585edb"
      },
      "execution_count": null,
      "outputs": [
        {
          "output_type": "stream",
          "name": "stdout",
          "text": [
            "['  Iraqi Vice President Taha Yassin Ramadan announced today, Sunday, that Iraq refuses to back down from its decision to stop cooperating with disarmament\\n  inspectors before its demands are met.Iraqi Vice president Taha Yassin Ramadan announced today,Thursday, that Iraq rejects cooperating with the United Nations except \\n  on the issue of lifting the blockade imposed upon it since the year 1990.', 'Ramadan told reporters in Baghdad that ”Iraq cannot deal positively with whoever represents \\n  the Security Council unless there was a clear stance on the issue of lifting the blockade off of it.', 'Baghdad had decided late last October to completely cease cooperating\\n  with the inspectors of the United Nations Special Commission (UNSCOM), in charge of disarming Iraq’s weapons, and whose work became very limited since the fifth of August, \\n  and announced it will not resume its cooperation with the Commission even if it were subjected to a military operation.', 'The Russian Foreign Minister, Igor Ivanov, warned today, \\n  Wednesday against using force against Iraq, which will destroy, according to him, seven years of difficult diplomatic work and will complicate the regional situation in the area.', 'Ivanov contended that carrying out air strikes against Iraq, who refuses to cooperate with the United Nations inspectors, will end the tremendous work achieved by the \\n  international group during the past seven years and will complicate the situation in the region.', 'Nevertheless, Ivanov stressed that Baghdad must resume working with the\\n  Special Commission in charge of disarming the Iraqi weapons of mass destruction (UNSCOM).', 'The Special Representative of the United Nations Secretary-General in Baghdad,\\n  Prakash Shah, announced today, Wednesday, after meeting with the Iraqi Deputy Prime Minister Tariq Aziz, that Iraq refuses to back down from its decision to cut off\\n  cooperation with the disarmament inspectors.', 'British Prime Minister Tony Blair said today, Sunday, that the crisis between the international community and Iraq “did not end” \\n  and that Britain is still “ready, prepared, and able to strike Iraq.In a gathering with the press held at the Prime Minister’s office, Blair contended that the crisis with Iraq \\n  “will not end until Iraq has absolutely and unconditionally respected its \"commitments” towards the United Nations.A spokesman for Tony Blair had indicated that the British \\n  Prime Minister gave permission to British Air Force Tornado planes stationed in Kuwait to join the aerial bombardment against Iraq.']\n"
          ]
        }
      ]
    },
    {
      "cell_type": "code",
      "source": [
        "lex_data=sent_tokenize(data)"
      ],
      "metadata": {
        "id": "DK46xv_D8IWk"
      },
      "execution_count": null,
      "outputs": []
    },
    {
      "cell_type": "code",
      "source": [
        "lexData = []\n",
        "\n",
        "for sntc in lex_data:\n",
        "  lexData.extend(sent_tokenize(sntc))\n",
        "lexData"
      ],
      "metadata": {
        "colab": {
          "base_uri": "https://localhost:8080/"
        },
        "id": "Q4rZu2Bq8M-e",
        "outputId": "4a0aadee-811f-4d39-87d5-6a001e0b0433"
      },
      "execution_count": null,
      "outputs": [
        {
          "output_type": "execute_result",
          "data": {
            "text/plain": [
              "['  Iraqi Vice President Taha Yassin Ramadan announced today, Sunday, that Iraq refuses to back down from its decision to stop cooperating with disarmament\\n  inspectors before its demands are met.Iraqi Vice president Taha Yassin Ramadan announced today,Thursday, that Iraq rejects cooperating with the United Nations except \\n  on the issue of lifting the blockade imposed upon it since the year 1990.',\n",
              " 'Ramadan told reporters in Baghdad that ”Iraq cannot deal positively with whoever represents \\n  the Security Council unless there was a clear stance on the issue of lifting the blockade off of it.',\n",
              " 'Baghdad had decided late last October to completely cease cooperating\\n  with the inspectors of the United Nations Special Commission (UNSCOM), in charge of disarming Iraq’s weapons, and whose work became very limited since the fifth of August, \\n  and announced it will not resume its cooperation with the Commission even if it were subjected to a military operation.',\n",
              " 'The Russian Foreign Minister, Igor Ivanov, warned today, \\n  Wednesday against using force against Iraq, which will destroy, according to him, seven years of difficult diplomatic work and will complicate the regional situation in the area.',\n",
              " 'Ivanov contended that carrying out air strikes against Iraq, who refuses to cooperate with the United Nations inspectors, will end the tremendous work achieved by the \\n  international group during the past seven years and will complicate the situation in the region.',\n",
              " 'Nevertheless, Ivanov stressed that Baghdad must resume working with the\\n  Special Commission in charge of disarming the Iraqi weapons of mass destruction (UNSCOM).',\n",
              " 'The Special Representative of the United Nations Secretary-General in Baghdad,\\n  Prakash Shah, announced today, Wednesday, after meeting with the Iraqi Deputy Prime Minister Tariq Aziz, that Iraq refuses to back down from its decision to cut off\\n  cooperation with the disarmament inspectors.',\n",
              " 'British Prime Minister Tony Blair said today, Sunday, that the crisis between the international community and Iraq “did not end” \\n  and that Britain is still “ready, prepared, and able to strike Iraq.In a gathering with the press held at the Prime Minister’s office, Blair contended that the crisis with Iraq \\n  “will not end until Iraq has absolutely and unconditionally respected its \"commitments” towards the United Nations.A spokesman for Tony Blair had indicated that the British \\n  Prime Minister gave permission to British Air Force Tornado planes stationed in Kuwait to join the aerial bombardment against Iraq.']"
            ]
          },
          "metadata": {},
          "execution_count": 59
        }
      ]
    },
    {
      "cell_type": "code",
      "source": [
        "# For Strings\n",
        "parser=PlaintextParser.from_string(lexData,Tokenizer(\"english\"))\n",
        "# Using LexRank\n",
        "summarizer = LexRankSummarizer()\n",
        "#Summarize the document with 4 sentences\n",
        "summary = summarizer(parser.document,2)\n",
        "for sentence in summary:\n",
        "    print(sentence)\n"
      ],
      "metadata": {
        "colab": {
          "base_uri": "https://localhost:8080/"
        },
        "id": "z5BQmZ0rfeBg",
        "outputId": "e91812b9-0d8c-42f1-eb64-edae6ad1dcd9"
      },
      "execution_count": null,
      "outputs": [
        {
          "output_type": "stream",
          "name": "stdout",
          "text": [
            "['  Iraqi Vice President Taha Yassin Ramadan announced today, Sunday, that Iraq refuses to back down from its decision to stop cooperating with disarmament\\n  inspectors before its demands are met.Iraqi Vice president Taha Yassin Ramadan announced today,Thursday, that Iraq rejects cooperating with the United Nations except \\n  on the issue of lifting the blockade imposed upon it since the year 1990.\n",
            "', 'Ivanov contended that carrying out air strikes against Iraq, who refuses to cooperate with the United Nations inspectors, will end the tremendous work achieved by the \\n  international group during the past seven years and will complicate the situation in the region.\n"
          ]
        }
      ]
    },
    {
      "cell_type": "code",
      "source": [
        "import numpy as np\n",
        "from scipy.sparse.csgraph import connected_components\n",
        "\n",
        "\n",
        "def _power_method(transition_matrix, increase_power=True):\n",
        "    eigenvector = np.ones(len(transition_matrix))\n",
        "\n",
        "    if len(eigenvector) == 1:\n",
        "        return eigenvector\n",
        "\n",
        "    transition = transition_matrix.transpose()\n",
        "\n",
        "    while True:\n",
        "        eigenvector_next = np.dot(transition, eigenvector)\n",
        "\n",
        "        if np.allclose(eigenvector_next, eigenvector):\n",
        "            return eigenvector_next\n",
        "\n",
        "        eigenvector = eigenvector_next\n",
        "\n",
        "        if increase_power:\n",
        "            transition = np.dot(transition, transition)\n",
        "\n",
        "\n",
        "def connected_nodes(matrix):\n",
        "    _, labels = connected_components(matrix)\n",
        "\n",
        "    groups = []\n",
        "\n",
        "    for tag in np.unique(labels):\n",
        "        group = np.where(labels == tag)[0]\n",
        "        groups.append(group)\n",
        "\n",
        "    return groups\n",
        "\n",
        "\n",
        "def create_markov_matrix(weights_matrix):\n",
        "    n_1, n_2 = weights_matrix.shape\n",
        "    if n_1 != n_2:\n",
        "        raise ValueError('\\'weights_matrix\\' should be square')\n",
        "\n",
        "    row_sum = weights_matrix.sum(axis=1, keepdims=True)\n",
        "\n",
        "    return weights_matrix / row_sum\n",
        "\n",
        "\n",
        "def create_markov_matrix_discrete(weights_matrix, threshold):\n",
        "    discrete_weights_matrix = np.zeros(weights_matrix.shape)\n",
        "    ixs = np.where(weights_matrix >= threshold)\n",
        "    discrete_weights_matrix[ixs] = 1\n",
        "\n",
        "    return create_markov_matrix(discrete_weights_matrix)\n",
        "\n",
        "\n",
        "def graph_nodes_clusters(transition_matrix, increase_power=True):\n",
        "    clusters = connected_nodes(transition_matrix)\n",
        "    clusters.sort(key=len, reverse=True)\n",
        "\n",
        "    centroid_scores = []\n",
        "\n",
        "    for group in clusters:\n",
        "        t_matrix = transition_matrix[np.ix_(group, group)]\n",
        "        eigenvector = _power_method(t_matrix, increase_power=increase_power)\n",
        "        centroid_scores.append(eigenvector / len(group))\n",
        "\n",
        "    return clusters, centroid_scores\n",
        "\n",
        "\n",
        "def stationary_distribution(\n",
        "    transition_matrix,\n",
        "    increase_power=True,\n",
        "    normalized=True,\n",
        "):\n",
        "    n_1, n_2 = transition_matrix.shape\n",
        "    if n_1 != n_2:\n",
        "        raise ValueError('\\'transition_matrix\\' should be square')\n",
        "\n",
        "    distribution = np.zeros(n_1)\n",
        "\n",
        "    grouped_indices = connected_nodes(transition_matrix)\n",
        "\n",
        "    for group in grouped_indices:\n",
        "        t_matrix = transition_matrix[np.ix_(group, group)]\n",
        "        eigenvector = _power_method(t_matrix, increase_power=increase_power)\n",
        "        distribution[group] = eigenvector\n",
        "\n",
        "    if normalized:\n",
        "        distribution /= n_1\n",
        "\n",
        "    return distribution"
      ],
      "metadata": {
        "id": "a7VcuP6r_p_F"
      },
      "execution_count": null,
      "outputs": []
    },
    {
      "cell_type": "code",
      "source": [
        "import math\n",
        "from collections import Counter, defaultdict\n",
        "\n",
        "import numpy as np\n",
        "\n",
        "# from lexrank.algorithms.power_method import (\n",
        "#     create_markov_matrix, create_markov_matrix_discrete,\n",
        "#     stationary_distribution,\n",
        "# )\n",
        "from lexrank.utils.text import tokenize\n",
        "\n",
        "\n",
        "def degree_centrality_scores(\n",
        "    similarity_matrix,\n",
        "    threshold=None,\n",
        "    increase_power=True,\n",
        "):\n",
        "    if not (\n",
        "        threshold is None\n",
        "        or isinstance(threshold, float)\n",
        "        and 0 <= threshold < 1\n",
        "    ):\n",
        "        raise ValueError(\n",
        "            '\\'threshold\\' should be a floating-point number '\n",
        "            'from the interval [0, 1) or None',\n",
        "        )\n",
        "\n",
        "    if threshold is None:\n",
        "        markov_matrix = create_markov_matrix(similarity_matrix)\n",
        "\n",
        "    else:\n",
        "        markov_matrix = create_markov_matrix_discrete(\n",
        "            similarity_matrix,\n",
        "            threshold,\n",
        "        )\n",
        "\n",
        "    scores = stationary_distribution(\n",
        "        markov_matrix,\n",
        "        increase_power=increase_power,\n",
        "        normalized=False,\n",
        "    )\n",
        "\n",
        "    return scores\n",
        "\n",
        "\n",
        "class LexRank:\n",
        "    def __init__(\n",
        "        self,\n",
        "        documents,\n",
        "        stopwords=None,\n",
        "        keep_numbers=False,\n",
        "        keep_emails=False,\n",
        "        keep_urls=False,\n",
        "        include_new_words=True,\n",
        "    ):\n",
        "        if stopwords is None:\n",
        "            self.stopwords = set()\n",
        "        else:\n",
        "            self.stopwords = stopwords\n",
        "\n",
        "        self.keep_numbers = keep_numbers\n",
        "        self.keep_emails = keep_emails\n",
        "        self.keep_urls = keep_urls\n",
        "        self.include_new_words = include_new_words\n",
        "\n",
        "        self.idf_score = self._calculate_idf(documents)\n",
        "\n",
        "    def get_summary(\n",
        "        self,\n",
        "        sentences,\n",
        "        summary_size=1,\n",
        "        threshold=.03,\n",
        "        fast_power_method=True,\n",
        "    ):\n",
        "        if not isinstance(summary_size, int) or summary_size < 1:\n",
        "            raise ValueError('\\'summary_size\\' should be a positive integer')\n",
        "\n",
        "        lex_scores = self.rank_sentences(\n",
        "            sentences,\n",
        "            threshold=threshold,\n",
        "            fast_power_method=fast_power_method,\n",
        "        )\n",
        "\n",
        "        sorted_ix = np.argsort(lex_scores)[::-1]\n",
        "        summary = [sentences[i] for i in sorted_ix[:summary_size]]\n",
        "\n",
        "        return summary\n",
        "\n",
        "    def rank_sentences(\n",
        "        self,\n",
        "        sentences,\n",
        "        threshold=.03,\n",
        "        fast_power_method=True,\n",
        "    ):\n",
        "        tf_scores = [\n",
        "            Counter(self.tokenize_sentence(sentence)) for sentence in sentences\n",
        "        ]\n",
        "\n",
        "        similarity_matrix = self._calculate_similarity_matrix(tf_scores)\n",
        "\n",
        "        scores = degree_centrality_scores(\n",
        "            similarity_matrix,\n",
        "            threshold=threshold,\n",
        "            increase_power=fast_power_method,\n",
        "        )\n",
        "\n",
        "        return scores\n",
        "\n",
        "    def sentences_similarity(self, sentence_1, sentence_2):\n",
        "        tf_1 = Counter(self.tokenize_sentence(sentence_1))\n",
        "        tf_2 = Counter(self.tokenize_sentence(sentence_2))\n",
        "\n",
        "        similarity = self._idf_modified_cosine([tf_1, tf_2], 0, 1)\n",
        "\n",
        "        return similarity\n",
        "\n",
        "    def tokenize_sentence(self, sentence):\n",
        "        tokens = tokenize(\n",
        "            sentence,\n",
        "            self.stopwords,\n",
        "            keep_numbers=self.keep_numbers,\n",
        "            keep_emails=self.keep_emails,\n",
        "            keep_urls=self.keep_urls,\n",
        "        )\n",
        "\n",
        "        return tokens\n",
        "\n",
        "    def _calculate_idf(self, documents):\n",
        "        bags_of_words = []\n",
        "\n",
        "        for doc in documents:\n",
        "            doc_words = set()\n",
        "\n",
        "            for sentence in doc:\n",
        "                words = self.tokenize_sentence(sentence)\n",
        "                doc_words.update(words)\n",
        "\n",
        "            if doc_words:\n",
        "                bags_of_words.append(doc_words)\n",
        "\n",
        "        if not bags_of_words:\n",
        "            raise ValueError('documents are not informative')\n",
        "\n",
        "        doc_number_total = len(bags_of_words)\n",
        "\n",
        "        if self.include_new_words:\n",
        "            default_value = 1\n",
        "\n",
        "        else:\n",
        "            default_value = 0\n",
        "\n",
        "        idf_score = defaultdict(lambda: default_value)\n",
        "\n",
        "        for word in set.union(*bags_of_words):\n",
        "            doc_number_word = sum(1 for bag in bags_of_words if word in bag)\n",
        "            idf_score[word] = math.log(doc_number_total / doc_number_word)\n",
        "\n",
        "        return idf_score\n",
        "\n",
        "    def _calculate_similarity_matrix(self, tf_scores):\n",
        "        length = len(tf_scores)\n",
        "\n",
        "        similarity_matrix = np.zeros([length] * 2)\n",
        "\n",
        "        for i in range(length):\n",
        "            for j in range(i, length):\n",
        "                similarity = self._idf_modified_cosine(tf_scores, i, j)\n",
        "\n",
        "                if similarity:\n",
        "                    similarity_matrix[i, j] = similarity\n",
        "                    similarity_matrix[j, i] = similarity\n",
        "\n",
        "        return similarity_matrix\n",
        "\n",
        "    def _idf_modified_cosine(self, tf_scores, i, j):\n",
        "        if i == j:\n",
        "            return 1\n",
        "\n",
        "        tf_i, tf_j = tf_scores[i], tf_scores[j]\n",
        "        words_i, words_j = set(tf_i.keys()), set(tf_j.keys())\n",
        "\n",
        "        nominator = 0\n",
        "\n",
        "        for word in words_i & words_j:\n",
        "            idf = self.idf_score[word]\n",
        "            nominator += tf_i[word] * tf_j[word] * idf ** 2\n",
        "\n",
        "        if math.isclose(nominator, 0):\n",
        "            return 0\n",
        "\n",
        "        denominator_i, denominator_j = 0, 0\n",
        "\n",
        "        for word in words_i:\n",
        "            tfidf = tf_i[word] * self.idf_score[word]\n",
        "            denominator_i += tfidf ** 2\n",
        "\n",
        "        for word in words_j:\n",
        "            tfidf = tf_j[word] * self.idf_score[word]\n",
        "            denominator_j += tfidf ** 2\n",
        "\n",
        "        similarity = nominator / math.sqrt(denominator_i * denominator_j)\n",
        "\n",
        "        return similarity"
      ],
      "metadata": {
        "id": "VZZV4BBxu8yt"
      },
      "execution_count": null,
      "outputs": []
    },
    {
      "cell_type": "code",
      "source": [
        "    d1_s1 = 'Iraqi Vice President Taha Yassin Ramadan announced today, ' \\\n",
        "        'Sunday, that Iraq refuses to back down from its decision to stop ' \\\n",
        "        'cooperating with disarmament inspectors before its demands are met.'\n",
        "\n",
        "    d2_s1 = 'Iraqi Vice president Taha Yassin Ramadan announced today, ' \\\n",
        "        'Thursday, that Iraq rejects cooperating with the United Nations ' \\\n",
        "        'except on the issue of lifting the blockade imposed ' \\\n",
        "        'upon it since the year 1990.'\n",
        "\n",
        "    d2_s2 = 'Ramadan told reporters in Baghdad that ”Iraq cannot deal ' \\\n",
        "        'positively with whoever represents the Security Council unless ' \\\n",
        "        'there was a clear stance on the issue of lifting the ' \\\n",
        "        'blockade off of it.'\n",
        "\n",
        "    d2_s3 = 'Baghdad had decided late last October to completely cease ' \\\n",
        "        'cooperating with the inspectors of the United Nations Special ' \\\n",
        "        'Commission (UNSCOM), in charge of disarming Iraq’s weapons, and ' \\\n",
        "        'whose work became very limited since the fifth of August, ' \\\n",
        "        'and announced it will not resume its cooperation with the ' \\\n",
        "        'Commission even if it were subjected to a military operation.'\n",
        "\n",
        "    d3_s1 = 'The Russian Foreign Minister, Igor Ivanov, warned today, ' \\\n",
        "        'Wednesday against using force against Iraq, which will destroy, ' \\\n",
        "        'according to him, seven years of difficult diplomatic work and ' \\\n",
        "        'will complicate the regional situation in the area.'\n",
        "\n",
        "    d3_s2 = 'Ivanov contended that carrying out air strikes against Iraq, ' \\\n",
        "        'who refuses to cooperate with the United Nations inspectors, ' \\\n",
        "        '“will end the tremendous work achieved by the international group ' \\\n",
        "        'during the past seven years and will complicate the ' \\\n",
        "        'situation in the region.”'\n",
        "\n",
        "    d3_s3 = 'Nevertheless, Ivanov stressed that Baghdad must resume working ' \\\n",
        "        'with the Special Commission in charge of disarming the Iraqi ' \\\n",
        "        'weapons of mass destruction (UNSCOM).'\n",
        "\n",
        "    d4_s1 = 'The Special Representative of the United Nations ' \\\n",
        "        'Secretary-General in Baghdad, Prakash Shah, announced today, ' \\\n",
        "        'Wednesday, after meeting with the Iraqi Deputy Prime Minister ' \\\n",
        "        'Tariq Aziz, that Iraq refuses to back down from its decision to ' \\\n",
        "        'cut off cooperation with the disarmament inspectors.'\n",
        "\n",
        "    d5_s1 = 'British Prime Minister Tony Blair said today, Sunday, that the ' \\\n",
        "        'crisis between the international community and Iraq “did not end” ' \\\n",
        "        'and that Britain is still “ready, prepared, and able to strike Iraq.”'\n",
        "\n",
        "    d5_s2 = 'In a gathering with the press held at the Prime Minister’s ' \\\n",
        "        'office, Blair contended that the crisis with Iraq “will not end ' \\\n",
        "        'until Iraq has absolutely and unconditionally respected its ' \\\n",
        "        'commitments” towards the United Nations.'\n",
        "\n",
        "    d5_s3 = 'A spokesman for Tony Blair had indicated that the British ' \\\n",
        "        'Prime Minister gave permission to British Air Force Tornado planes ' \\\n",
        "        'stationed in Kuwait to join the aerial bombardment against Iraq.'\n",
        "\n",
        "    documents = [\n",
        "        [d1_s1],\n",
        "        [d2_s1, d2_s2, d2_s3],\n",
        "        [d3_s1, d3_s2, d3_s3],\n",
        "        [d4_s1],\n",
        "        [d5_s1, d5_s2, d5_s3],\n",
        "    ]\n",
        "\n",
        "    sentences = []\n",
        "\n",
        "    for doc in documents:\n",
        "        sentences.extend(doc)\n",
        "\n",
        "    lxr = LexRank(documents, keep_numbers=True)\n",
        "    tf_scores = [\n",
        "        Counter(lxr.tokenize_sentence(sentence)) for sentence in sentences\n",
        "    ]\n",
        "\n",
        "    # similarity_matrix = np.round(\n",
        "    #     lxr._calculate_similarity_matrix(tf_scores), 2,\n",
        "    # )\n",
        "    # lex_scores = lxr.rank_sentences(sentences, threshold=.01)\n",
        "    # lex_scores = lxr.rank_sentences(sentences, threshold=None)\n",
        "    # similarity = lxr.sentences_similarity(d1_s1, d2_s1)\n",
        "    summary = lxr.get_summary(sentences, threshold=.01)\n",
        "    #summary = lxr.get_summary(sentences, summary_size=5, threshold=0)\n",
        "    summary"
      ],
      "metadata": {
        "colab": {
          "base_uri": "https://localhost:8080/"
        },
        "id": "nxZlTNBl96BK",
        "outputId": "80ca4b59-631f-4fcf-c818-3a647d3aafc2"
      },
      "execution_count": null,
      "outputs": [
        {
          "output_type": "execute_result",
          "data": {
            "text/plain": [
              "['The Special Representative of the United Nations Secretary-General in Baghdad, Prakash Shah, announced today, Wednesday, after meeting with the Iraqi Deputy Prime Minister Tariq Aziz, that Iraq refuses to back down from its decision to cut off cooperation with the disarmament inspectors.']"
            ]
          },
          "metadata": {},
          "execution_count": 63
        }
      ]
    },
    {
      "cell_type": "markdown",
      "source": [
        "# Transformers - BART model\n"
      ],
      "metadata": {
        "id": "NYOROjlaUAay"
      }
    },
    {
      "cell_type": "code",
      "source": [
        "pip install transformers"
      ],
      "metadata": {
        "id": "WzEmlZjBP19A"
      },
      "execution_count": null,
      "outputs": []
    },
    {
      "cell_type": "code",
      "source": [
        "from transformers import pipeline\n",
        "import os"
      ],
      "metadata": {
        "id": "yTfRtvB4P4ve"
      },
      "execution_count": null,
      "outputs": []
    },
    {
      "cell_type": "code",
      "source": [
        "summarizer = pipeline(\"summarization\")"
      ],
      "metadata": {
        "id": "OL3UIqSaP9Sm"
      },
      "execution_count": null,
      "outputs": []
    },
    {
      "cell_type": "code",
      "source": [
        "text = \"\"\"One month after the United States began what has become a troubled rollout of a national COVID vaccination campaign, the effort is finally gathering real steam.\n",
        "Close to a million doses -- over 951,000, to be more exact -- made their way into the arms of Americans in the past 24 hours, the U.S. Centers for Disease Control and Prevention reported Wednesday. That's the largest number of shots given in one day since the rollout began and a big jump from the previous day, when just under 340,000 doses were given, CBS News reported.\n",
        "That number is likely to jump quickly after the federal government on Tuesday gave states the OK to vaccinate anyone over 65 and said it would release all the doses of vaccine it has available for distribution. Meanwhile, a number of states have now opened mass vaccination sites in an effort to get larger numbers of people inoculated, CBS News reported.\"\"\"\n"
      ],
      "metadata": {
        "id": "VnP2IzAsQFaR"
      },
      "execution_count": null,
      "outputs": []
    },
    {
      "cell_type": "code",
      "source": [
        "summary_text = summarizer(text, max_length=100, min_length=5, do_sample=False)[0]['summary_text']\n",
        "print(summary_text)"
      ],
      "metadata": {
        "colab": {
          "base_uri": "https://localhost:8080/"
        },
        "id": "__Nlw-VlTeTw",
        "outputId": "eb4d641c-a041-4a7b-f639-aa27de031f57"
      },
      "execution_count": null,
      "outputs": [
        {
          "output_type": "stream",
          "name": "stdout",
          "text": [
            " Over 951,000 doses of vaccine were given in the past 24 hours . That's the largest number of shots given in one day since the rollout began . The federal government on Tuesday gave states the OK to vaccinate anyone over 65 .\n"
          ]
        }
      ]
    },
    {
      "cell_type": "code",
      "source": [],
      "metadata": {
        "id": "1iZtIGrATgaf"
      },
      "execution_count": null,
      "outputs": []
    }
  ]
}